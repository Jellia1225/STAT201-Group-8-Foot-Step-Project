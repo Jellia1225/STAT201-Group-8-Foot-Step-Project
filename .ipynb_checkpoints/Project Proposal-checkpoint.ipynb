{
 "cells": [
  {
   "cell_type": "markdown",
   "id": "9315fa1f-ce36-4db0-850b-02fefc9b70e3",
   "metadata": {},
   "source": [
    "### STAT 201 Group 8 Project Proposal:\n",
    "## Comparing the Mean Differences of Weekly Step Count for Male vs Female University Students"
   ]
  },
  {
   "cell_type": "markdown",
   "id": "c584c6d1-8b02-4712-90ad-d7e3efbc70aa",
   "metadata": {},
   "source": [
    "### Introduction:\n",
    "\n",
    "A post-pandemic world has brought about an alarming increase in obesity rates, detrimental mental health issues, and overall enhanced sedentary behavior; however, physical exercise, such as walking, has been found to alleviate anxiety, while also increasing exercise tolerance and energy levels (Sharma, 2006). An accessible and measurable tool to calculate step counts is with our phones; almost all phones embed the ‘Health’ application, which tracks one’s daily steps. With men and women exhibiting different leisure and exercise habits, we were interested in studying if a discrepancy existed in their walking habits, and how active they each were. Studies have shown that men tend to be more active than women, due to social & personal factors (Azevedo, 2007), however, we wanted to examine this more specifically on university students.\n",
    "With our project, we are trying to observe if average weekly footcount steps are different between genders. Our variables of interest are gender, and footstep counts. We will be looking at mean weekly footstep counts. We will be using data that was recorded by our phones and watches(fitbit) and our sample will be from university students. \n",
    "Our dataset will be comprised of the raw daily step counts of 4 female and 5 male students, dispersed over the course of 2 weeks. The dataset will be organized into an excel sheet, with our variable of interest being daily step counts, spread across 2 categories of gender (male/female). The location parameter of interest is the difference in mean step counts between genders, and we will also calculate the standard deviation to understand the role of sampling variation in our experiment.\n",
    "##### Research question: Is there a difference between the mean weekly step count of men (m) vs women (w)?\n",
    "##### Null Hypothesis: m - w = 0\n",
    "##### Alternative Hypothesis: m - w ≠ 0\n",
    "If our results show that there is a difference between footcounts between genders, we can show this data to our stakeholders to prove that we should focus on the lesser footcount gender first with exercise/physical activity initiatives specific for that gender to make more of an impact. \n"
   ]
  },
  {
   "cell_type": "markdown",
   "id": "b0ab809b-6ae4-420e-b767-52b4abcea7ff",
   "metadata": {},
   "source": [
    "### Preliminary Results\n",
    "\n",
    "Demonstrate that the dataset can be read from the web into R.\n",
    "Clean and wrangle your data into a tidy format.\n",
    "Plot the relevant raw data, tailoring your plot in a way that addresses your question.\n",
    "Compute estimates of the parameter you identified across your groups. Present this in a table. If relevant, include these estimates in your plot.\n"
   ]
  },
  {
   "cell_type": "code",
   "execution_count": null,
   "id": "d3545f27-6e75-4e92-8f35-b54296dc9e23",
   "metadata": {},
   "outputs": [],
   "source": []
  },
  {
   "cell_type": "markdown",
   "id": "4ddc3135-f832-4c78-880a-41c61c06d755",
   "metadata": {},
   "source": [
    "### Methods: Plan\n",
    "\n",
    "!!!actual plan\n",
    "\n",
    "Our chosen sample population is technologically reliant; they carry their phones with them most of the time, and these devices are advanced enough to record step data with accuracy and precision.\n",
    "However, there are some limitations; our sample is made of our group members, and our friends; we chose people who exhibit similar habits to us, likely study similar majors (different classes require different walking distances), and overall, our sample was not random and not generalizable to all university students. While our sample size was 126, we only took captured data from 9 people - as humans, we tend to follow routines and consistent patterns, meaning there would be less variation in our sample, as there would have been if we took one observation from 126 people. Our sample is quite biased, towards our group members & our friends, but this stems from needing private data, and only having a limited reach of people."
   ]
  },
  {
   "cell_type": "markdown",
   "id": "c63a7a90-2aff-42f5-aaf8-148e5f8d014b",
   "metadata": {},
   "source": [
    "### References\n",
    "\n",
    "\n",
    "Azevedo, M. R., Araújo, C. L., Reichert, F. F., Siqueira, F. V., da Silva, M. C., &amp; Hallal, P. C. (2007). Gender differences in leisure-time physical activity. International Journal of Public Health, 52(1), 8–15. https://doi.org/10.1007/s00038-006-5062-1 \n",
    "\n",
    "Sharma, A. (2006). Exercise for mental health. The Primary Care Companion For CNS Disorders, 8(2). https://doi.org/10.4088/pcc.v08n0208a"
   ]
  }
 ],
 "metadata": {
  "kernelspec": {
   "display_name": "R",
   "language": "R",
   "name": "ir"
  },
  "language_info": {
   "codemirror_mode": "r",
   "file_extension": ".r",
   "mimetype": "text/x-r-source",
   "name": "R",
   "pygments_lexer": "r",
   "version": "4.1.3"
  }
 },
 "nbformat": 4,
 "nbformat_minor": 5
}
